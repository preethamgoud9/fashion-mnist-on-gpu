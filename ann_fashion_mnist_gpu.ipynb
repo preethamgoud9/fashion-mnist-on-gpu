{
  "cells": [
    {
      "cell_type": "markdown",
      "metadata": {
        "id": "view-in-github",
        "colab_type": "text"
      },
      "source": [
        "<a href=\"https://colab.research.google.com/github/preethamgoud9/fashion-mnist-on-gpu/blob/main/ann_fashion_mnist_gpu.ipynb\" target=\"_parent\"><img src=\"https://colab.research.google.com/assets/colab-badge.svg\" alt=\"Open In Colab\"/></a>"
      ]
    },
    {
      "cell_type": "code",
      "execution_count": null,
      "metadata": {
        "id": "3krBCNfAsr0E"
      },
      "outputs": [],
      "source": [
        "import pandas as pd\n",
        "from sklearn.model_selection import train_test_split\n",
        "import torch\n",
        "import torch.nn as nn\n",
        "import torch.optim as optim\n",
        "from torch.utils.data import Dataset,DataLoader\n",
        "import matplotlib.pyplot as plt"
      ]
    },
    {
      "cell_type": "markdown",
      "source": [
        "# New Section"
      ],
      "metadata": {
        "id": "QB5YqJ0WuCLR"
      }
    },
    {
      "cell_type": "code",
      "execution_count": null,
      "metadata": {
        "colab": {
          "base_uri": "https://localhost:8080/"
        },
        "id": "PJnEdhn9sr0G",
        "outputId": "147e4df4-6890-49e5-9aae-879dd0d872da"
      },
      "outputs": [
        {
          "output_type": "execute_result",
          "data": {
            "text/plain": [
              "<torch._C.Generator at 0x7efc7a649050>"
            ]
          },
          "metadata": {},
          "execution_count": 2
        }
      ],
      "source": [
        "torch.manual_seed(42)"
      ]
    },
    {
      "cell_type": "code",
      "source": [
        "device = torch.device('cuda' if torch.cuda.is_available() else 'cpu')\n",
        "print(f\"using devide:{device}\")"
      ],
      "metadata": {
        "colab": {
          "base_uri": "https://localhost:8080/"
        },
        "id": "Qp35htg_u2dE",
        "outputId": "fbc59b4f-f190-4bc4-9763-396c8a06e45b"
      },
      "execution_count": null,
      "outputs": [
        {
          "output_type": "stream",
          "name": "stdout",
          "text": [
            "using devide:cuda\n"
          ]
        }
      ]
    },
    {
      "cell_type": "code",
      "execution_count": null,
      "metadata": {
        "colab": {
          "base_uri": "https://localhost:8080/",
          "height": 255
        },
        "id": "XZagUzAxsr0H",
        "outputId": "7aa15613-5bab-43f2-cb47-480472eaec05"
      },
      "outputs": [
        {
          "output_type": "execute_result",
          "data": {
            "text/plain": [
              "   label  pixel1  pixel2  pixel3  pixel4  pixel5  pixel6  pixel7  pixel8  \\\n",
              "0      2       0       0       0       0       0       0       0       0   \n",
              "1      9       0       0       0       0       0       0       0       0   \n",
              "2      6       0       0       0       0       0       0       0       5   \n",
              "3      0       0       0       0       1       2       0       0       0   \n",
              "4      3       0       0       0       0       0       0       0       0   \n",
              "\n",
              "   pixel9  ...  pixel775  pixel776  pixel777  pixel778  pixel779  pixel780  \\\n",
              "0       0  ...         0         0         0         0         0         0   \n",
              "1       0  ...         0         0         0         0         0         0   \n",
              "2       0  ...         0         0         0        30        43         0   \n",
              "3       0  ...         3         0         0         0         0         1   \n",
              "4       0  ...         0         0         0         0         0         0   \n",
              "\n",
              "   pixel781  pixel782  pixel783  pixel784  \n",
              "0         0         0         0         0  \n",
              "1         0         0         0         0  \n",
              "2         0         0         0         0  \n",
              "3         0         0         0         0  \n",
              "4         0         0         0         0  \n",
              "\n",
              "[5 rows x 785 columns]"
            ],
            "text/html": [
              "\n",
              "  <div id=\"df-7c146fe4-d96d-4005-8eef-cccc67ba6b2f\" class=\"colab-df-container\">\n",
              "    <div>\n",
              "<style scoped>\n",
              "    .dataframe tbody tr th:only-of-type {\n",
              "        vertical-align: middle;\n",
              "    }\n",
              "\n",
              "    .dataframe tbody tr th {\n",
              "        vertical-align: top;\n",
              "    }\n",
              "\n",
              "    .dataframe thead th {\n",
              "        text-align: right;\n",
              "    }\n",
              "</style>\n",
              "<table border=\"1\" class=\"dataframe\">\n",
              "  <thead>\n",
              "    <tr style=\"text-align: right;\">\n",
              "      <th></th>\n",
              "      <th>label</th>\n",
              "      <th>pixel1</th>\n",
              "      <th>pixel2</th>\n",
              "      <th>pixel3</th>\n",
              "      <th>pixel4</th>\n",
              "      <th>pixel5</th>\n",
              "      <th>pixel6</th>\n",
              "      <th>pixel7</th>\n",
              "      <th>pixel8</th>\n",
              "      <th>pixel9</th>\n",
              "      <th>...</th>\n",
              "      <th>pixel775</th>\n",
              "      <th>pixel776</th>\n",
              "      <th>pixel777</th>\n",
              "      <th>pixel778</th>\n",
              "      <th>pixel779</th>\n",
              "      <th>pixel780</th>\n",
              "      <th>pixel781</th>\n",
              "      <th>pixel782</th>\n",
              "      <th>pixel783</th>\n",
              "      <th>pixel784</th>\n",
              "    </tr>\n",
              "  </thead>\n",
              "  <tbody>\n",
              "    <tr>\n",
              "      <th>0</th>\n",
              "      <td>2</td>\n",
              "      <td>0</td>\n",
              "      <td>0</td>\n",
              "      <td>0</td>\n",
              "      <td>0</td>\n",
              "      <td>0</td>\n",
              "      <td>0</td>\n",
              "      <td>0</td>\n",
              "      <td>0</td>\n",
              "      <td>0</td>\n",
              "      <td>...</td>\n",
              "      <td>0</td>\n",
              "      <td>0</td>\n",
              "      <td>0</td>\n",
              "      <td>0</td>\n",
              "      <td>0</td>\n",
              "      <td>0</td>\n",
              "      <td>0</td>\n",
              "      <td>0</td>\n",
              "      <td>0</td>\n",
              "      <td>0</td>\n",
              "    </tr>\n",
              "    <tr>\n",
              "      <th>1</th>\n",
              "      <td>9</td>\n",
              "      <td>0</td>\n",
              "      <td>0</td>\n",
              "      <td>0</td>\n",
              "      <td>0</td>\n",
              "      <td>0</td>\n",
              "      <td>0</td>\n",
              "      <td>0</td>\n",
              "      <td>0</td>\n",
              "      <td>0</td>\n",
              "      <td>...</td>\n",
              "      <td>0</td>\n",
              "      <td>0</td>\n",
              "      <td>0</td>\n",
              "      <td>0</td>\n",
              "      <td>0</td>\n",
              "      <td>0</td>\n",
              "      <td>0</td>\n",
              "      <td>0</td>\n",
              "      <td>0</td>\n",
              "      <td>0</td>\n",
              "    </tr>\n",
              "    <tr>\n",
              "      <th>2</th>\n",
              "      <td>6</td>\n",
              "      <td>0</td>\n",
              "      <td>0</td>\n",
              "      <td>0</td>\n",
              "      <td>0</td>\n",
              "      <td>0</td>\n",
              "      <td>0</td>\n",
              "      <td>0</td>\n",
              "      <td>5</td>\n",
              "      <td>0</td>\n",
              "      <td>...</td>\n",
              "      <td>0</td>\n",
              "      <td>0</td>\n",
              "      <td>0</td>\n",
              "      <td>30</td>\n",
              "      <td>43</td>\n",
              "      <td>0</td>\n",
              "      <td>0</td>\n",
              "      <td>0</td>\n",
              "      <td>0</td>\n",
              "      <td>0</td>\n",
              "    </tr>\n",
              "    <tr>\n",
              "      <th>3</th>\n",
              "      <td>0</td>\n",
              "      <td>0</td>\n",
              "      <td>0</td>\n",
              "      <td>0</td>\n",
              "      <td>1</td>\n",
              "      <td>2</td>\n",
              "      <td>0</td>\n",
              "      <td>0</td>\n",
              "      <td>0</td>\n",
              "      <td>0</td>\n",
              "      <td>...</td>\n",
              "      <td>3</td>\n",
              "      <td>0</td>\n",
              "      <td>0</td>\n",
              "      <td>0</td>\n",
              "      <td>0</td>\n",
              "      <td>1</td>\n",
              "      <td>0</td>\n",
              "      <td>0</td>\n",
              "      <td>0</td>\n",
              "      <td>0</td>\n",
              "    </tr>\n",
              "    <tr>\n",
              "      <th>4</th>\n",
              "      <td>3</td>\n",
              "      <td>0</td>\n",
              "      <td>0</td>\n",
              "      <td>0</td>\n",
              "      <td>0</td>\n",
              "      <td>0</td>\n",
              "      <td>0</td>\n",
              "      <td>0</td>\n",
              "      <td>0</td>\n",
              "      <td>0</td>\n",
              "      <td>...</td>\n",
              "      <td>0</td>\n",
              "      <td>0</td>\n",
              "      <td>0</td>\n",
              "      <td>0</td>\n",
              "      <td>0</td>\n",
              "      <td>0</td>\n",
              "      <td>0</td>\n",
              "      <td>0</td>\n",
              "      <td>0</td>\n",
              "      <td>0</td>\n",
              "    </tr>\n",
              "  </tbody>\n",
              "</table>\n",
              "<p>5 rows × 785 columns</p>\n",
              "</div>\n",
              "    <div class=\"colab-df-buttons\">\n",
              "\n",
              "  <div class=\"colab-df-container\">\n",
              "    <button class=\"colab-df-convert\" onclick=\"convertToInteractive('df-7c146fe4-d96d-4005-8eef-cccc67ba6b2f')\"\n",
              "            title=\"Convert this dataframe to an interactive table.\"\n",
              "            style=\"display:none;\">\n",
              "\n",
              "  <svg xmlns=\"http://www.w3.org/2000/svg\" height=\"24px\" viewBox=\"0 -960 960 960\">\n",
              "    <path d=\"M120-120v-720h720v720H120Zm60-500h600v-160H180v160Zm220 220h160v-160H400v160Zm0 220h160v-160H400v160ZM180-400h160v-160H180v160Zm440 0h160v-160H620v160ZM180-180h160v-160H180v160Zm440 0h160v-160H620v160Z\"/>\n",
              "  </svg>\n",
              "    </button>\n",
              "\n",
              "  <style>\n",
              "    .colab-df-container {\n",
              "      display:flex;\n",
              "      gap: 12px;\n",
              "    }\n",
              "\n",
              "    .colab-df-convert {\n",
              "      background-color: #E8F0FE;\n",
              "      border: none;\n",
              "      border-radius: 50%;\n",
              "      cursor: pointer;\n",
              "      display: none;\n",
              "      fill: #1967D2;\n",
              "      height: 32px;\n",
              "      padding: 0 0 0 0;\n",
              "      width: 32px;\n",
              "    }\n",
              "\n",
              "    .colab-df-convert:hover {\n",
              "      background-color: #E2EBFA;\n",
              "      box-shadow: 0px 1px 2px rgba(60, 64, 67, 0.3), 0px 1px 3px 1px rgba(60, 64, 67, 0.15);\n",
              "      fill: #174EA6;\n",
              "    }\n",
              "\n",
              "    .colab-df-buttons div {\n",
              "      margin-bottom: 4px;\n",
              "    }\n",
              "\n",
              "    [theme=dark] .colab-df-convert {\n",
              "      background-color: #3B4455;\n",
              "      fill: #D2E3FC;\n",
              "    }\n",
              "\n",
              "    [theme=dark] .colab-df-convert:hover {\n",
              "      background-color: #434B5C;\n",
              "      box-shadow: 0px 1px 3px 1px rgba(0, 0, 0, 0.15);\n",
              "      filter: drop-shadow(0px 1px 2px rgba(0, 0, 0, 0.3));\n",
              "      fill: #FFFFFF;\n",
              "    }\n",
              "  </style>\n",
              "\n",
              "    <script>\n",
              "      const buttonEl =\n",
              "        document.querySelector('#df-7c146fe4-d96d-4005-8eef-cccc67ba6b2f button.colab-df-convert');\n",
              "      buttonEl.style.display =\n",
              "        google.colab.kernel.accessAllowed ? 'block' : 'none';\n",
              "\n",
              "      async function convertToInteractive(key) {\n",
              "        const element = document.querySelector('#df-7c146fe4-d96d-4005-8eef-cccc67ba6b2f');\n",
              "        const dataTable =\n",
              "          await google.colab.kernel.invokeFunction('convertToInteractive',\n",
              "                                                    [key], {});\n",
              "        if (!dataTable) return;\n",
              "\n",
              "        const docLinkHtml = 'Like what you see? Visit the ' +\n",
              "          '<a target=\"_blank\" href=https://colab.research.google.com/notebooks/data_table.ipynb>data table notebook</a>'\n",
              "          + ' to learn more about interactive tables.';\n",
              "        element.innerHTML = '';\n",
              "        dataTable['output_type'] = 'display_data';\n",
              "        await google.colab.output.renderOutput(dataTable, element);\n",
              "        const docLink = document.createElement('div');\n",
              "        docLink.innerHTML = docLinkHtml;\n",
              "        element.appendChild(docLink);\n",
              "      }\n",
              "    </script>\n",
              "  </div>\n",
              "\n",
              "\n",
              "<div id=\"df-c5cbdf95-25de-414a-acc9-9ace9e361004\">\n",
              "  <button class=\"colab-df-quickchart\" onclick=\"quickchart('df-c5cbdf95-25de-414a-acc9-9ace9e361004')\"\n",
              "            title=\"Suggest charts\"\n",
              "            style=\"display:none;\">\n",
              "\n",
              "<svg xmlns=\"http://www.w3.org/2000/svg\" height=\"24px\"viewBox=\"0 0 24 24\"\n",
              "     width=\"24px\">\n",
              "    <g>\n",
              "        <path d=\"M19 3H5c-1.1 0-2 .9-2 2v14c0 1.1.9 2 2 2h14c1.1 0 2-.9 2-2V5c0-1.1-.9-2-2-2zM9 17H7v-7h2v7zm4 0h-2V7h2v10zm4 0h-2v-4h2v4z\"/>\n",
              "    </g>\n",
              "</svg>\n",
              "  </button>\n",
              "\n",
              "<style>\n",
              "  .colab-df-quickchart {\n",
              "      --bg-color: #E8F0FE;\n",
              "      --fill-color: #1967D2;\n",
              "      --hover-bg-color: #E2EBFA;\n",
              "      --hover-fill-color: #174EA6;\n",
              "      --disabled-fill-color: #AAA;\n",
              "      --disabled-bg-color: #DDD;\n",
              "  }\n",
              "\n",
              "  [theme=dark] .colab-df-quickchart {\n",
              "      --bg-color: #3B4455;\n",
              "      --fill-color: #D2E3FC;\n",
              "      --hover-bg-color: #434B5C;\n",
              "      --hover-fill-color: #FFFFFF;\n",
              "      --disabled-bg-color: #3B4455;\n",
              "      --disabled-fill-color: #666;\n",
              "  }\n",
              "\n",
              "  .colab-df-quickchart {\n",
              "    background-color: var(--bg-color);\n",
              "    border: none;\n",
              "    border-radius: 50%;\n",
              "    cursor: pointer;\n",
              "    display: none;\n",
              "    fill: var(--fill-color);\n",
              "    height: 32px;\n",
              "    padding: 0;\n",
              "    width: 32px;\n",
              "  }\n",
              "\n",
              "  .colab-df-quickchart:hover {\n",
              "    background-color: var(--hover-bg-color);\n",
              "    box-shadow: 0 1px 2px rgba(60, 64, 67, 0.3), 0 1px 3px 1px rgba(60, 64, 67, 0.15);\n",
              "    fill: var(--button-hover-fill-color);\n",
              "  }\n",
              "\n",
              "  .colab-df-quickchart-complete:disabled,\n",
              "  .colab-df-quickchart-complete:disabled:hover {\n",
              "    background-color: var(--disabled-bg-color);\n",
              "    fill: var(--disabled-fill-color);\n",
              "    box-shadow: none;\n",
              "  }\n",
              "\n",
              "  .colab-df-spinner {\n",
              "    border: 2px solid var(--fill-color);\n",
              "    border-color: transparent;\n",
              "    border-bottom-color: var(--fill-color);\n",
              "    animation:\n",
              "      spin 1s steps(1) infinite;\n",
              "  }\n",
              "\n",
              "  @keyframes spin {\n",
              "    0% {\n",
              "      border-color: transparent;\n",
              "      border-bottom-color: var(--fill-color);\n",
              "      border-left-color: var(--fill-color);\n",
              "    }\n",
              "    20% {\n",
              "      border-color: transparent;\n",
              "      border-left-color: var(--fill-color);\n",
              "      border-top-color: var(--fill-color);\n",
              "    }\n",
              "    30% {\n",
              "      border-color: transparent;\n",
              "      border-left-color: var(--fill-color);\n",
              "      border-top-color: var(--fill-color);\n",
              "      border-right-color: var(--fill-color);\n",
              "    }\n",
              "    40% {\n",
              "      border-color: transparent;\n",
              "      border-right-color: var(--fill-color);\n",
              "      border-top-color: var(--fill-color);\n",
              "    }\n",
              "    60% {\n",
              "      border-color: transparent;\n",
              "      border-right-color: var(--fill-color);\n",
              "    }\n",
              "    80% {\n",
              "      border-color: transparent;\n",
              "      border-right-color: var(--fill-color);\n",
              "      border-bottom-color: var(--fill-color);\n",
              "    }\n",
              "    90% {\n",
              "      border-color: transparent;\n",
              "      border-bottom-color: var(--fill-color);\n",
              "    }\n",
              "  }\n",
              "</style>\n",
              "\n",
              "  <script>\n",
              "    async function quickchart(key) {\n",
              "      const quickchartButtonEl =\n",
              "        document.querySelector('#' + key + ' button');\n",
              "      quickchartButtonEl.disabled = true;  // To prevent multiple clicks.\n",
              "      quickchartButtonEl.classList.add('colab-df-spinner');\n",
              "      try {\n",
              "        const charts = await google.colab.kernel.invokeFunction(\n",
              "            'suggestCharts', [key], {});\n",
              "      } catch (error) {\n",
              "        console.error('Error during call to suggestCharts:', error);\n",
              "      }\n",
              "      quickchartButtonEl.classList.remove('colab-df-spinner');\n",
              "      quickchartButtonEl.classList.add('colab-df-quickchart-complete');\n",
              "    }\n",
              "    (() => {\n",
              "      let quickchartButtonEl =\n",
              "        document.querySelector('#df-c5cbdf95-25de-414a-acc9-9ace9e361004 button');\n",
              "      quickchartButtonEl.style.display =\n",
              "        google.colab.kernel.accessAllowed ? 'block' : 'none';\n",
              "    })();\n",
              "  </script>\n",
              "</div>\n",
              "\n",
              "    </div>\n",
              "  </div>\n"
            ],
            "application/vnd.google.colaboratory.intrinsic+json": {
              "type": "dataframe",
              "variable_name": "df"
            }
          },
          "metadata": {},
          "execution_count": 4
        }
      ],
      "source": [
        "df = pd.read_csv(\"fashion-mnist_train.csv\")\n",
        "df.head()"
      ]
    },
    {
      "cell_type": "code",
      "execution_count": null,
      "metadata": {
        "id": "sU2J-LEysr0I"
      },
      "outputs": [],
      "source": [
        "#train test split\n",
        "x = df.iloc[:,1:].values\n",
        "y = df.iloc[:,0].values"
      ]
    },
    {
      "cell_type": "code",
      "execution_count": null,
      "metadata": {
        "id": "pnAFuBRBsr0I"
      },
      "outputs": [],
      "source": [
        "x_train,x_test,y_train,y_test = train_test_split(x,y , test_size=0.2 , random_state=42)"
      ]
    },
    {
      "cell_type": "code",
      "execution_count": null,
      "metadata": {
        "id": "wOmIClS1sr0I"
      },
      "outputs": [],
      "source": [
        "#scaling the features, basically we are normalizing the values to an smaller intervals (0-1)\n",
        "x_train = x_train/255.0\n",
        "x_test = x_test/255.0"
      ]
    },
    {
      "cell_type": "code",
      "execution_count": null,
      "metadata": {
        "id": "C9sTDSCusr0J"
      },
      "outputs": [],
      "source": [
        "#creating custom dataset\n",
        "class CustomDataset(Dataset):\n",
        "\n",
        "    def __init__(self,features,labels):\n",
        "\n",
        "        self.features = torch.tensor(features, dtype=torch.float32)\n",
        "        self.labels = torch.tensor(labels,dtype=torch.long)\n",
        "\n",
        "    def __len__(self):\n",
        "        return len(self.features)\n",
        "\n",
        "    def __getitem__(self,index):\n",
        "        return self.features[index],self.labels[index]"
      ]
    },
    {
      "cell_type": "code",
      "execution_count": null,
      "metadata": {
        "id": "lsfvgvwLsr0J"
      },
      "outputs": [],
      "source": [
        "#create train_dataset object\n",
        "train_dataset = CustomDataset(x_train,y_train)"
      ]
    },
    {
      "cell_type": "code",
      "execution_count": null,
      "metadata": {
        "colab": {
          "base_uri": "https://localhost:8080/"
        },
        "id": "IB3SSFPBsr0J",
        "outputId": "c85d8f78-a60c-4c17-f88f-a5e1109d9053"
      },
      "outputs": [
        {
          "output_type": "execute_result",
          "data": {
            "text/plain": [
              "48000"
            ]
          },
          "metadata": {},
          "execution_count": 10
        }
      ],
      "source": [
        "len(train_dataset)"
      ]
    },
    {
      "cell_type": "code",
      "execution_count": null,
      "metadata": {
        "id": "k14OVLVWsr0K"
      },
      "outputs": [],
      "source": [
        "#create train_dataset object\n",
        "test_dataset = CustomDataset(x_test,y_test)"
      ]
    },
    {
      "cell_type": "code",
      "execution_count": null,
      "metadata": {
        "colab": {
          "base_uri": "https://localhost:8080/"
        },
        "id": "RL0PJw2vsr0K",
        "outputId": "4bd58b48-4b78-4b52-99d5-a9f2b6bf6c33"
      },
      "outputs": [
        {
          "output_type": "execute_result",
          "data": {
            "text/plain": [
              "12000"
            ]
          },
          "metadata": {},
          "execution_count": 12
        }
      ],
      "source": [
        "len(test_dataset)"
      ]
    },
    {
      "cell_type": "code",
      "execution_count": null,
      "metadata": {
        "id": "F1pMzzzDsr0K"
      },
      "outputs": [],
      "source": [
        "#creating train and test loader\n",
        "train_loader = DataLoader(train_dataset,batch_size=32,shuffle=True)\n",
        "test_loader = DataLoader(test_dataset,batch_size=32,shuffle=False)"
      ]
    },
    {
      "cell_type": "code",
      "execution_count": null,
      "metadata": {
        "id": "-C2-gm9msr0K"
      },
      "outputs": [],
      "source": [
        "#define nn class\n",
        "class MyNN(nn.Module):\n",
        "\n",
        "    def __init__(self,num_features):\n",
        "        super().__init__()\n",
        "\n",
        "        self.model = nn.Sequential(\n",
        "            nn.Linear(num_features,128),\n",
        "            nn.ReLU(),\n",
        "            nn.Linear(128,64),\n",
        "            nn.ReLU(),\n",
        "            nn.Linear(64,10)\n",
        "        )\n",
        "    def forward(self,x):\n",
        "        return self.model(x)"
      ]
    },
    {
      "cell_type": "code",
      "execution_count": null,
      "metadata": {
        "id": "MKSF7-q-sr0K"
      },
      "outputs": [],
      "source": [
        "#set learning rate and epochs\n",
        "learning_rate = 0.1\n",
        "epochs = 100"
      ]
    },
    {
      "cell_type": "code",
      "execution_count": null,
      "metadata": {
        "id": "C5IFZGpMsr0L"
      },
      "outputs": [],
      "source": [
        "#instantiate the model\n",
        "model = MyNN(x_train.shape[1])\n",
        "model = model.to(device)\n",
        "\n",
        "#loss function\n",
        "criterion = nn.CrossEntropyLoss()\n",
        "\n",
        "#optimizer\n",
        "optimizer = optim.SGD(model.parameters(),lr =learning_rate)"
      ]
    },
    {
      "cell_type": "code",
      "execution_count": null,
      "metadata": {
        "colab": {
          "base_uri": "https://localhost:8080/"
        },
        "id": "XknTnzAqsr0L",
        "outputId": "8fd4fce5-0bf7-436d-ab84-32276c59b7f4"
      },
      "outputs": [
        {
          "output_type": "stream",
          "name": "stdout",
          "text": [
            "Epoch:1 and Loss : 0.6352872455318769\n",
            "Epoch:2 and Loss : 0.4304986933817466\n",
            "Epoch:3 and Loss : 0.38612620331346986\n",
            "Epoch:4 and Loss : 0.3584607186516126\n",
            "Epoch:5 and Loss : 0.3376494685560465\n",
            "Epoch:6 and Loss : 0.3227646785800656\n",
            "Epoch:7 and Loss : 0.30785389595727125\n",
            "Epoch:8 and Loss : 0.29498188248028356\n",
            "Epoch:9 and Loss : 0.2854692431092262\n",
            "Epoch:10 and Loss : 0.27467057487616936\n",
            "Epoch:11 and Loss : 0.26830568559716145\n",
            "Epoch:12 and Loss : 0.25814215187107525\n",
            "Epoch:13 and Loss : 0.24940819021190205\n",
            "Epoch:14 and Loss : 0.24444738084822892\n",
            "Epoch:15 and Loss : 0.23859191479658087\n",
            "Epoch:16 and Loss : 0.23155898495018482\n",
            "Epoch:17 and Loss : 0.22562562109405795\n",
            "Epoch:18 and Loss : 0.220296459933122\n",
            "Epoch:19 and Loss : 0.21206333881616593\n",
            "Epoch:20 and Loss : 0.20960091057543953\n",
            "Epoch:21 and Loss : 0.20624992236122489\n",
            "Epoch:22 and Loss : 0.19986102367161462\n",
            "Epoch:23 and Loss : 0.19530413204431535\n",
            "Epoch:24 and Loss : 0.19312162966746838\n",
            "Epoch:25 and Loss : 0.18764106344679993\n",
            "Epoch:26 and Loss : 0.1836644180783381\n",
            "Epoch:27 and Loss : 0.1801829884586235\n",
            "Epoch:28 and Loss : 0.1732649680164953\n",
            "Epoch:29 and Loss : 0.17048048644885422\n",
            "Epoch:30 and Loss : 0.1704416691598793\n",
            "Epoch:31 and Loss : 0.1669696749355644\n",
            "Epoch:32 and Loss : 0.16373400872449081\n",
            "Epoch:33 and Loss : 0.16233399505944301\n",
            "Epoch:34 and Loss : 0.15723733726826808\n",
            "Epoch:35 and Loss : 0.15447346428254\n",
            "Epoch:36 and Loss : 0.1545576546518132\n",
            "Epoch:37 and Loss : 0.14620412410050632\n",
            "Epoch:38 and Loss : 0.14241028870362787\n",
            "Epoch:39 and Loss : 0.14137836676385876\n",
            "Epoch:40 and Loss : 0.1423039033394307\n",
            "Epoch:41 and Loss : 0.1375529004293494\n",
            "Epoch:42 and Loss : 0.13899335852917283\n",
            "Epoch:43 and Loss : 0.13538831498442838\n",
            "Epoch:44 and Loss : 0.1287984882996728\n",
            "Epoch:45 and Loss : 0.12960014000659187\n",
            "Epoch:46 and Loss : 0.12750795842163887\n",
            "Epoch:47 and Loss : 0.12409021653390179\n",
            "Epoch:48 and Loss : 0.12071532321178044\n",
            "Epoch:49 and Loss : 0.11564283333004763\n",
            "Epoch:50 and Loss : 0.11969620903915104\n",
            "Epoch:51 and Loss : 0.11240664103456463\n",
            "Epoch:52 and Loss : 0.11313746599317528\n",
            "Epoch:53 and Loss : 0.11436900947755203\n",
            "Epoch:54 and Loss : 0.11118536476511508\n",
            "Epoch:55 and Loss : 0.1151556797324059\n",
            "Epoch:56 and Loss : 0.10828998744379108\n",
            "Epoch:57 and Loss : 0.10759262777973587\n",
            "Epoch:58 and Loss : 0.10664007855408515\n",
            "Epoch:59 and Loss : 0.10350715170230251\n",
            "Epoch:60 and Loss : 0.09918549502578874\n",
            "Epoch:61 and Loss : 0.09934679207073835\n",
            "Epoch:62 and Loss : 0.0993961365839156\n",
            "Epoch:63 and Loss : 0.09597745557703699\n",
            "Epoch:64 and Loss : 0.09528340040857439\n",
            "Epoch:65 and Loss : 0.09809105654499338\n",
            "Epoch:66 and Loss : 0.09813115014034944\n",
            "Epoch:67 and Loss : 0.09015605362077865\n",
            "Epoch:68 and Loss : 0.09044385887787211\n",
            "Epoch:69 and Loss : 0.08992214041020877\n",
            "Epoch:70 and Loss : 0.0894195347436859\n",
            "Epoch:71 and Loss : 0.0901607719749057\n",
            "Epoch:72 and Loss : 0.08494903467145438\n",
            "Epoch:73 and Loss : 0.08435975614225026\n",
            "Epoch:74 and Loss : 0.08038173073634972\n",
            "Epoch:75 and Loss : 0.07998347281183427\n",
            "Epoch:76 and Loss : 0.07927920010786814\n",
            "Epoch:77 and Loss : 0.08367198768362868\n",
            "Epoch:78 and Loss : 0.08010334276167365\n",
            "Epoch:79 and Loss : 0.07839310948318841\n",
            "Epoch:80 and Loss : 0.07731449945651306\n",
            "Epoch:81 and Loss : 0.0725119466939359\n",
            "Epoch:82 and Loss : 0.07715899436779243\n",
            "Epoch:83 and Loss : 0.07848059432738227\n",
            "Epoch:84 and Loss : 0.06879183093741692\n",
            "Epoch:85 and Loss : 0.08118748380765707\n",
            "Epoch:86 and Loss : 0.07770356753194937\n",
            "Epoch:87 and Loss : 0.06794948129361728\n",
            "Epoch:88 and Loss : 0.06668691740721502\n",
            "Epoch:89 and Loss : 0.06795124354235305\n",
            "Epoch:90 and Loss : 0.07117577052312844\n",
            "Epoch:91 and Loss : 0.06771438679029719\n",
            "Epoch:92 and Loss : 0.06959606989556535\n",
            "Epoch:93 and Loss : 0.06168472910565712\n",
            "Epoch:94 and Loss : 0.06411504278382442\n",
            "Epoch:95 and Loss : 0.06060305817479578\n",
            "Epoch:96 and Loss : 0.05729881219780267\n",
            "Epoch:97 and Loss : 0.058360233872032645\n",
            "Epoch:98 and Loss : 0.06350834116928429\n",
            "Epoch:99 and Loss : 0.05521324163050546\n",
            "Epoch:100 and Loss : 0.06209626051294617\n"
          ]
        }
      ],
      "source": [
        "#training loop\n",
        "for epoch in range(epochs):\n",
        "\n",
        "    total_epoch_loss = 0\n",
        "\n",
        "    for batch_features, batch_labels in train_loader:\n",
        "\n",
        "        #move data to gpu\n",
        "        batch_features, batch_labels =batch_features.to(device), batch_labels.to(device)\n",
        "\n",
        "        #forward pass\n",
        "        outputs = model(batch_features)\n",
        "        #loss calculation\n",
        "        loss =criterion(outputs,batch_labels)\n",
        "        #backpropagation\n",
        "        optimizer.zero_grad()\n",
        "        loss.backward()\n",
        "        #update the parameters\n",
        "        optimizer.step()\n",
        "\n",
        "        total_epoch_loss = total_epoch_loss + loss.item()\n",
        "\n",
        "    avg_loss = total_epoch_loss/len(train_loader)\n",
        "    print(f\"Epoch:{epoch +1} and Loss : {avg_loss}\")\n"
      ]
    },
    {
      "cell_type": "code",
      "execution_count": null,
      "metadata": {
        "colab": {
          "base_uri": "https://localhost:8080/"
        },
        "id": "pJkOcfiisr0L",
        "outputId": "8017fcf4-77ef-4714-d856-7661aa5c92f9"
      },
      "outputs": [
        {
          "output_type": "execute_result",
          "data": {
            "text/plain": [
              "MyNN(\n",
              "  (model): Sequential(\n",
              "    (0): Linear(in_features=784, out_features=128, bias=True)\n",
              "    (1): ReLU()\n",
              "    (2): Linear(in_features=128, out_features=64, bias=True)\n",
              "    (3): ReLU()\n",
              "    (4): Linear(in_features=64, out_features=10, bias=True)\n",
              "  )\n",
              ")"
            ]
          },
          "metadata": {},
          "execution_count": 19
        }
      ],
      "source": [
        "#set the model to eval mode\n",
        "model.eval()"
      ]
    },
    {
      "cell_type": "code",
      "execution_count": null,
      "metadata": {
        "colab": {
          "base_uri": "https://localhost:8080/"
        },
        "id": "yN23cbM5sr0L",
        "outputId": "163fd321-e439-4b53-9eb3-445ec747d424"
      },
      "outputs": [
        {
          "output_type": "stream",
          "name": "stdout",
          "text": [
            "0.8898333333333334\n"
          ]
        }
      ],
      "source": [
        "#evaluation\n",
        "total = 0\n",
        "correct = 0\n",
        "with torch.no_grad():\n",
        "    for batch_features,batch_labels in test_loader:\n",
        "\n",
        "        #move data to gpu\n",
        "        batch_features, batch_labels =batch_features.to(device), batch_labels.to(device)\n",
        "\n",
        "        outputs = model(batch_features)\n",
        "        _,predicted = torch.max(outputs,1)\n",
        "\n",
        "        total = total + batch_features.shape[0]\n",
        "        correct = correct + (predicted == batch_labels).sum().item()\n",
        "\n",
        "    accuracy = correct/total\n",
        "    print(accuracy)\n",
        "\n"
      ]
    },
    {
      "cell_type": "code",
      "execution_count": null,
      "metadata": {
        "id": "x6dRmjJVsr0L"
      },
      "outputs": [],
      "source": []
    }
  ],
  "metadata": {
    "kernelspec": {
      "display_name": "Python 3",
      "name": "python3"
    },
    "language_info": {
      "codemirror_mode": {
        "name": "ipython",
        "version": 3
      },
      "file_extension": ".py",
      "mimetype": "text/x-python",
      "name": "python",
      "nbconvert_exporter": "python",
      "pygments_lexer": "ipython3",
      "version": "3.13.2"
    },
    "colab": {
      "provenance": [],
      "gpuType": "T4",
      "include_colab_link": true
    },
    "accelerator": "GPU"
  },
  "nbformat": 4,
  "nbformat_minor": 0
}